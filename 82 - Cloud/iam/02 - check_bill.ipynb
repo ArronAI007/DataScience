{
 "cells": [
  {
   "cell_type": "code",
   "execution_count": 3,
   "metadata": {},
   "outputs": [],
   "source": [
    "import boto3\n",
    "import datetime\n",
    "\n",
    "cloudwatch_client = boto3.client('cloudwatch')\n",
    "start_date = '2023-08-04'\n",
    "end_date = '2023-08-06'"
   ]
  },
  {
   "cell_type": "code",
   "execution_count": 4,
   "metadata": {},
   "outputs": [
    {
     "name": "stdout",
     "output_type": "stream",
     "text": [
      "Amazon SageMaker 508.8159870975\n",
      "Amazon Relational Database Service 226.0082978813\n",
      "Amazon Simple Storage Service 149.8939797366\n",
      "EC2 - Other 141.9051046842\n",
      "Amazon OpenSearch Service 79.2045737966\n",
      "Amazon Elastic Compute Cloud - Compute 63.3225956793\n",
      "Amazon Elastic Load Balancing 40.1463134857\n",
      "AWS Config 28.74\n",
      "AmazonCloudWatch 13.9379402728\n"
     ]
    }
   ],
   "source": [
    "### check bill per service ###\n",
    "def get_cost_and_usage(start_date, end_date):\n",
    "    client = boto3.client('ce')\n",
    "    response = client.get_cost_and_usage(\n",
    "        TimePeriod={\n",
    "            'Start': start_date,\n",
    "            'End': end_date\n",
    "        },\n",
    "        Granularity='MONTHLY',\n",
    "        Metrics=['UnblendedCost'],\n",
    "        GroupBy=[\n",
    "            {\n",
    "                'Type': 'DIMENSION',\n",
    "                'Key': 'SERVICE'\n",
    "            }\n",
    "        ]\n",
    "    )\n",
    "\n",
    "    return response\n",
    "\n",
    "cost_service_dic = {}\n",
    "response = get_cost_and_usage(start_date, end_date)\n",
    "for result in response['ResultsByTime']:\n",
    "    for group in result['Groups']:\n",
    "        service = group['Keys'][0]\n",
    "        cost = float(group['Metrics']['UnblendedCost']['Amount'])\n",
    "        currency = group['Metrics']['UnblendedCost']['Unit']\n",
    "        if cost > 10:\n",
    "            cost_service_dic[service] = cost\n",
    "\n",
    "cost_service_dic = dict(sorted(cost_service_dic.items(), key=lambda item: item[1], reverse=True))\n",
    "for k, v in cost_service_dic.items():\n",
    "    print(k, v)"
   ]
  },
  {
   "cell_type": "code",
   "execution_count": 41,
   "metadata": {},
   "outputs": [
    {
     "name": "stdout",
     "output_type": "stream",
     "text": [
      "Running SageMaker Instances:\n"
     ]
    }
   ],
   "source": [
    "def list_running_sagemaker_instances():\n",
    "    # Create a boto3 SageMaker client\n",
    "    sagemaker_client = boto3.client('sagemaker')\n",
    "\n",
    "    # List all SageMaker notebook instances with status filter for \"InService\"\n",
    "    response = sagemaker_client.list_notebook_instances(StatusEquals='InService')\n",
    "    instances = response['NotebookInstances']\n",
    "    return instances\n",
    "\n",
    "# Call the function to list all running SageMaker notebook instances\n",
    "running_sagemaker_instances = list_running_sagemaker_instances()\n",
    "\n",
    "# Print the list of running SageMaker notebook instances\n",
    "print(\"Running SageMaker Instances:\")\n",
    "for instance in running_sagemaker_instances:\n",
    "    print(f\"Instance Name: {instance['NotebookInstanceName']}\")\n",
    "    print(f\"Instance ARN: {instance['NotebookInstanceArn']}\")\n",
    "    print(f\"Instance Status: {instance['NotebookInstanceStatus']}\")\n",
    "    print(\"----------------------\")"
   ]
  }
 ],
 "metadata": {
  "kernelspec": {
   "display_name": "dev",
   "language": "python",
   "name": "python3"
  },
  "language_info": {
   "codemirror_mode": {
    "name": "ipython",
    "version": 3
   },
   "file_extension": ".py",
   "mimetype": "text/x-python",
   "name": "python",
   "nbconvert_exporter": "python",
   "pygments_lexer": "ipython3",
   "version": "3.11.0"
  },
  "orig_nbformat": 4
 },
 "nbformat": 4,
 "nbformat_minor": 2
}
