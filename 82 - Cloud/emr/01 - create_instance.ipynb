{
 "cells": [
  {
   "cell_type": "code",
   "execution_count": 61,
   "metadata": {},
   "outputs": [],
   "source": [
    "import os\n",
    "import boto3\n",
    "import ipaddress\n",
    "\n",
    "ec2_client = boto3.client(\"ec2\", region_name=\"ap-southeast-1\")\n",
    "emr_client = boto3.client(\"emr\", region_name=\"ap-southeast-1\")\n",
    "iam_client = boto3.client('iam', region_name=\"ap-southeast-1\")"
   ]
  },
  {
   "cell_type": "code",
   "execution_count": 62,
   "metadata": {},
   "outputs": [
    {
     "name": "stdout",
     "output_type": "stream",
     "text": [
      "IP address is not within the CIDR block.\n"
     ]
    }
   ],
   "source": [
    "### to check if your ip address can get throu cidr ###\n",
    "def check_ip_in_cidr(ip_address, cidr_block):\n",
    "    ip = ipaddress.ip_address(ip_address)\n",
    "    network = ipaddress.ip_network(cidr_block)\n",
    "    return ip in network\n",
    "\n",
    "# Example usage\n",
    "ip_address = '115.66.123.164' \n",
    "cidr_block = '10.0.0.0/16'\n",
    "\n",
    "if check_ip_in_cidr(ip_address, cidr_block):\n",
    "    print(\"IP address is within the CIDR block.\")\n",
    "else:\n",
    "    print(\"IP address is not within the CIDR block.\")"
   ]
  },
  {
   "cell_type": "code",
   "execution_count": 63,
   "metadata": {},
   "outputs": [
    {
     "name": "stdout",
     "output_type": "stream",
     "text": [
      "An error occurred (InvalidKeyPair.Duplicate) when calling the CreateKeyPair operation: The keypair already exists\n"
     ]
    }
   ],
   "source": [
    "### get key-pair ###\n",
    "def create_key_pair(name):\n",
    "    key_pair = ec2_client.create_key_pair(KeyName=name)\n",
    "    private_key = key_pair[\"KeyMaterial\"]\n",
    "    # write private key to file with 400 permissions\n",
    "    with os.fdopen(os.open(f\"/var/ssh/{name}.pem\", os.O_WRONLY | os.O_CREAT, 0o400), \"w+\") as handle:\n",
    "        handle.write(private_key)\n",
    "key_pair_name = \"ec2-key-pair\"\n",
    "\n",
    "try:    \n",
    "    create_key_pair(key_pair_name)\n",
    "except Exception as e:\n",
    "    print(e)"
   ]
  },
  {
   "cell_type": "code",
   "execution_count": 64,
   "metadata": {},
   "outputs": [
    {
     "name": "stdout",
     "output_type": "stream",
     "text": [
      "Default VPC ID: vpc-4658c621\n",
      "Default Subnet ID: subnet-b5e7abfc\n"
     ]
    }
   ],
   "source": [
    "### get defualt vpc ###\n",
    "response = ec2_client.describe_vpcs(\n",
    "    Filters=[{'Name': 'isDefault', 'Values': ['true']}]\n",
    ")\n",
    "default_vpcs = response['Vpcs']\n",
    "\n",
    "if default_vpcs:\n",
    "    default_vpc = default_vpcs[0]\n",
    "    default_vpc_id = default_vpc['VpcId']\n",
    "    print(\"Default VPC ID:\", default_vpc_id)\n",
    "\n",
    "    response = ec2_client.describe_subnets(\n",
    "        Filters=[\n",
    "            {'Name': 'vpc-id', 'Values': [default_vpc_id]},\n",
    "            {'Name': 'default-for-az', 'Values': ['true']}\n",
    "        ]\n",
    "    )\n",
    "    default_subnets = response['Subnets']\n",
    "\n",
    "    if default_subnets:\n",
    "        default_subnet = default_subnets[0]\n",
    "        default_subnet_id = default_subnet['SubnetId']\n",
    "        print(\"Default Subnet ID:\", default_subnet_id)\n",
    "    else:\n",
    "        print(\"No default subnet found for the default VPC.\")\n",
    "else:\n",
    "    print(\"No default VPC found.\")"
   ]
  },
  {
   "cell_type": "code",
   "execution_count": 94,
   "metadata": {},
   "outputs": [
    {
     "name": "stdout",
     "output_type": "stream",
     "text": [
      "Instance profile ARN: arn:aws:iam::852288348919:instance-profile/emr-instance-profile\n"
     ]
    }
   ],
   "source": [
    "# ec2-key-pair: /tmp/aws_ec2_key.pem\n",
    "### Create the Instance Profile ###\n",
    "# instance_profile_name = 'emr-instance-profile'\n",
    "# instance_profile_response = iam_client.create_instance_profile(\n",
    "#     InstanceProfileName=instance_profile_name\n",
    "# )\n",
    "\n",
    "# # Get the ARN of the Instance Profile\n",
    "# instance_profile_arn = instance_profile_response['InstanceProfile']['Arn']\n",
    "\n",
    "# # Add the EMR permissions to the Instance Profile\n",
    "# iam_client.add_role_to_instance_profile(\n",
    "#     InstanceProfileName=instance_profile_name,\n",
    "#     RoleName='EMR_DefaultRole'\n",
    "# )\n",
    "\n",
    "### get iam role arn ###\n",
    "instance_profile_name = 'emr-instance-profile'\n",
    "response = iam_client.get_instance_profile(InstanceProfileName=instance_profile_name)\n",
    "instance_profile_arn = response['InstanceProfile']['Arn']\n",
    "print(\"Instance profile ARN:\", instance_profile_arn)"
   ]
  },
  {
   "cell_type": "code",
   "execution_count": 66,
   "metadata": {},
   "outputs": [
    {
     "name": "stdout",
     "output_type": "stream",
     "text": [
      "Cluster ID:  j-1V6LEV0IWI13X\n"
     ]
    }
   ],
   "source": [
    "### create emr cluster ###\n",
    "response = emr_client.run_job_flow(\n",
    "    Name='emr_sg',\n",
    "    ReleaseLabel='emr-6.5.0', \n",
    "    Instances={\n",
    "        'InstanceGroups': [\n",
    "            {\n",
    "                'Name': 'Master Instance Group',\n",
    "                'Market': 'ON_DEMAND',\n",
    "                'InstanceRole': 'MASTER',\n",
    "                'InstanceType': 'm5.xlarge',\n",
    "                'InstanceCount': 1,\n",
    "            },\n",
    "            {\n",
    "                'Name': 'Core Instance Group',\n",
    "                'Market': 'ON_DEMAND',\n",
    "                'InstanceRole': 'CORE',\n",
    "                'InstanceType': 'm5.xlarge',\n",
    "                'InstanceCount': 2,\n",
    "            }\n",
    "        ],\n",
    "        'Ec2KeyName': key_pair_name,\n",
    "        'KeepJobFlowAliveWhenNoSteps': True,\n",
    "        'TerminationProtected': False,\n",
    "        'Ec2SubnetId': 'subnet-b5e7abfc',\n",
    "    },\n",
    "    Applications=[\n",
    "        {'Name': 'Hadoop'},\n",
    "        {'Name': 'Spark'},\n",
    "    ],\n",
    "    JobFlowRole=instance_profile_arn,\n",
    "    ServiceRole='EMR_DefaultRole'\n",
    ")\n",
    "\n",
    "cluster_id = response['JobFlowId']\n",
    "print('Cluster ID: ', cluster_id)"
   ]
  },
  {
   "cell_type": "code",
   "execution_count": 67,
   "metadata": {},
   "outputs": [
    {
     "name": "stdout",
     "output_type": "stream",
     "text": [
      "Cluster Status: STARTING\n",
      "Cluster Defaitls: {'Cluster': {'Id': 'j-1V6LEV0IWI13X', 'Name': 'emr_sg', 'Status': {'State': 'STARTING', 'StateChangeReason': {}, 'Timeline': {'CreationDateTime': datetime.datetime(2023, 6, 19, 12, 38, 4, 611000, tzinfo=tzlocal())}}, 'Ec2InstanceAttributes': {'Ec2KeyName': 'ec2-key-pair', 'Ec2SubnetId': 'subnet-b5e7abfc', 'RequestedEc2SubnetIds': ['subnet-b5e7abfc'], 'RequestedEc2AvailabilityZones': [], 'IamInstanceProfile': 'arn:aws:iam::852288348919:instance-profile/emr-instance-profile', 'EmrManagedMasterSecurityGroup': 'sg-0b8000bcbeeab5697', 'EmrManagedSlaveSecurityGroup': 'sg-00b99738b04b80963'}, 'InstanceCollectionType': 'INSTANCE_GROUP', 'ReleaseLabel': 'emr-6.5.0', 'AutoTerminate': False, 'TerminationProtected': False, 'VisibleToAllUsers': True, 'Applications': [{'Name': 'Hadoop', 'Version': '3.2.1'}, {'Name': 'Spark', 'Version': '3.1.2'}], 'Tags': [], 'ServiceRole': 'EMR_DefaultRole', 'NormalizedInstanceHours': 0, 'Configurations': [], 'ScaleDownBehavior': 'TERMINATE_AT_TASK_COMPLETION', 'KerberosAttributes': {}, 'ClusterArn': 'arn:aws:elasticmapreduce:ap-southeast-1:852288348919:cluster/j-1V6LEV0IWI13X', 'StepConcurrencyLevel': 1, 'PlacementGroups': []}, 'ResponseMetadata': {'RequestId': '0d0631f8-f248-4256-84e5-bcee95ab50f7', 'HTTPStatusCode': 200, 'HTTPHeaders': {'x-amzn-requestid': '0d0631f8-f248-4256-84e5-bcee95ab50f7', 'content-type': 'application/x-amz-json-1.1', 'content-length': '1083', 'date': 'Mon, 19 Jun 2023 04:38:07 GMT'}, 'RetryAttempts': 0}}\n"
     ]
    },
    {
     "data": {
      "text/plain": [
       "{'Clusters': [],\n",
       " 'ResponseMetadata': {'RequestId': 'd60851a0-4125-4ed8-8789-050145458900',\n",
       "  'HTTPStatusCode': 200,\n",
       "  'HTTPHeaders': {'x-amzn-requestid': 'd60851a0-4125-4ed8-8789-050145458900',\n",
       "   'content-type': 'application/x-amz-json-1.1',\n",
       "   'content-length': '15',\n",
       "   'date': 'Mon, 19 Jun 2023 04:38:07 GMT'},\n",
       "  'RetryAttempts': 0}}"
      ]
     },
     "execution_count": 67,
     "metadata": {},
     "output_type": "execute_result"
    }
   ],
   "source": [
    "### Check the cluster status ###\n",
    "response = emr_client.describe_cluster(ClusterId=cluster_id)\n",
    "cluster_status = response['Cluster']['Status']['State']\n",
    "print(f\"Cluster Status: {cluster_status}\")\n",
    "print(f\"Cluster Defaitls: {response}\")\n",
    "\n",
    "# Check if there are any errors\n",
    "if cluster_status == 'TERMINATED_WITH_ERRORS':\n",
    "    step_details = response['Cluster']['Status']['StateChangeReason']['Message']\n",
    "    print(f\"Cluster Error: {step_details}\")\n",
    "\n",
    "# check running or waiting cluster\n",
    "emr_client.list_clusters(ClusterStates=['RUNNING', \"WAITING\"])"
   ]
  },
  {
   "cell_type": "code",
   "execution_count": 69,
   "metadata": {},
   "outputs": [
    {
     "name": "stdout",
     "output_type": "stream",
     "text": [
      "ec2-52-76-7-72.ap-southeast-1.compute.amazonaws.com\n"
     ]
    }
   ],
   "source": [
    "### get master node DNS name ###\n",
    "response = emr_client.describe_cluster(ClusterId=cluster_id)\n",
    "master_public_dns = response['Cluster']['MasterPublicDnsName']\n",
    "print(master_public_dns)"
   ]
  },
  {
   "cell_type": "code",
   "execution_count": 68,
   "metadata": {},
   "outputs": [
    {
     "name": "stdout",
     "output_type": "stream",
     "text": [
      "An error occurred (InvalidPermission.Duplicate) when calling the AuthorizeSecurityGroupIngress operation: the specified rule \"peer: 0.0.0.0/0, TCP, from port: 22, to port: 22, ALLOW\" already exists\n"
     ]
    }
   ],
   "source": [
    "### allow ssh ###\n",
    "try:\n",
    "    response = emr_client.describe_cluster(\n",
    "        ClusterId=cluster_id\n",
    "    )\n",
    "\n",
    "    # Extract the security group ID\n",
    "    security_group_id = response['Cluster']['Ec2InstanceAttributes']['EmrManagedMasterSecurityGroup']\n",
    "\n",
    "    # Update the security group inbound rules\n",
    "    response = ec2_client.authorize_security_group_ingress(\n",
    "        GroupId=security_group_id,\n",
    "        IpPermissions=[\n",
    "            {\n",
    "                'IpProtocol': 'tcp',\n",
    "                'FromPort': 22,\n",
    "                'ToPort': 22,\n",
    "                'IpRanges': [{'CidrIp': '0.0.0.0/0'}]\n",
    "            }\n",
    "        ]\n",
    "    )\n",
    "except Exception as e:\n",
    "    print(e)"
   ]
  },
  {
   "cell_type": "code",
   "execution_count": 86,
   "metadata": {},
   "outputs": [
    {
     "name": "stdout",
     "output_type": "stream",
     "text": [
      "Elastic IP address created and tagged: 13.251.215.161\n",
      "Allocation ID: eipalloc-066a0d310d6c7462d\n",
      "EC2 instance ID: i-0716d42fbe3e9a28f\n"
     ]
    },
    {
     "data": {
      "text/plain": [
       "{'AssociationId': 'eipassoc-02f1cb7e7fa3e6f67',\n",
       " 'ResponseMetadata': {'RequestId': '18a7c4e4-7f4b-4875-bfbc-2170717306f5',\n",
       "  'HTTPStatusCode': 200,\n",
       "  'HTTPHeaders': {'x-amzn-requestid': '18a7c4e4-7f4b-4875-bfbc-2170717306f5',\n",
       "   'cache-control': 'no-cache, no-store',\n",
       "   'strict-transport-security': 'max-age=31536000; includeSubDomains',\n",
       "   'content-type': 'text/xml;charset=UTF-8',\n",
       "   'content-length': '295',\n",
       "   'date': 'Mon, 19 Jun 2023 05:00:32 GMT',\n",
       "   'server': 'AmazonEC2'},\n",
       "  'RetryAttempts': 0}}"
      ]
     },
     "execution_count": 86,
     "metadata": {},
     "output_type": "execute_result"
    }
   ],
   "source": [
    "### create elastic ip ###\n",
    "\n",
    "# create elastic ip\n",
    "# response = ec2_client.allocate_address(Domain='vpc')\n",
    "# elastic_ip = response['PublicIp']\n",
    "# tag_key = 'name'\n",
    "# tag_value = 'emr_elastic_ip'\n",
    "# # Add tags to the Elastic IP address\n",
    "# ec2_client.create_tags(\n",
    "#     Resources=[response['AllocationId']],\n",
    "#     Tags=[{'Key': tag_key, 'Value': tag_value}]\n",
    "# )\n",
    "# print(\"Elastic IP address created and tagged:\", elastic_ip)\n",
    "elastic_ip = '13.251.215.161'\n",
    "print(\"Elastic IP address created and tagged:\", elastic_ip)\n",
    "\n",
    "response = ec2_client.describe_addresses(PublicIps=[elastic_ip])\n",
    "allocation_id = response['Addresses'][0]['AllocationId']\n",
    "print(\"Allocation ID:\", allocation_id)\n",
    "\n",
    "### get emr instance id ###\n",
    "response = emr_client.list_instances(ClusterId=cluster_id)\n",
    "instances = response['Instances']\n",
    "for instance in instances:\n",
    "    if instance['PublicDnsName'] == master_public_dns:\n",
    "        instance_id = instance['Ec2InstanceId']\n",
    "print(\"EC2 instance ID:\", instance_id)\n",
    "\n",
    "ec2_client.associate_address(\n",
    "    AllocationId=allocation_id,\n",
    "    InstanceId=instance_id\n",
    ")"
   ]
  },
  {
   "cell_type": "code",
   "execution_count": null,
   "metadata": {},
   "outputs": [],
   "source": [
    "# ssh -i /var/ssh/ec2-key-pair.pem hadoop@13.251.215.161"
   ]
  },
  {
   "cell_type": "code",
   "execution_count": 95,
   "metadata": {},
   "outputs": [
    {
     "name": "stdout",
     "output_type": "stream",
     "text": [
      "EMR cluster j-1V6LEV0IWI13X terminated.\n"
     ]
    }
   ],
   "source": [
    "### Terminate the EMR cluster ###\n",
    "response = emr_client.terminate_job_flows(JobFlowIds=[cluster_id])\n",
    "print(f\"EMR cluster {cluster_id} terminated.\")"
   ]
  },
  {
   "cell_type": "code",
   "execution_count": null,
   "metadata": {},
   "outputs": [],
   "source": [
    "\n"
   ]
  }
 ],
 "metadata": {
  "kernelspec": {
   "display_name": "dev",
   "language": "python",
   "name": "python3"
  },
  "language_info": {
   "codemirror_mode": {
    "name": "ipython",
    "version": 3
   },
   "file_extension": ".py",
   "mimetype": "text/x-python",
   "name": "python",
   "nbconvert_exporter": "python",
   "pygments_lexer": "ipython3",
   "version": "3.11.0"
  },
  "orig_nbformat": 4
 },
 "nbformat": 4,
 "nbformat_minor": 2
}
